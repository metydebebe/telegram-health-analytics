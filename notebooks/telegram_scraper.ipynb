{
 "cells": [
  {
   "cell_type": "code",
   "execution_count": 6,
   "id": "8b69ffa9",
   "metadata": {},
   "outputs": [],
   "source": [
    "import os\n",
    "import json\n",
    "from datetime import datetime\n",
    "from dotenv import load_dotenv\n",
    "from telethon.sync import TelegramClient\n",
    "from telethon.tl.types import MessageMediaPhoto\n",
    "from telethon.errors import FloodWaitError\n",
    "import asyncio\n"
   ]
  },
  {
   "cell_type": "code",
   "execution_count": 7,
   "id": "dd029826",
   "metadata": {},
   "outputs": [],
   "source": [
    "load_dotenv()\n",
    "\n",
    "api_id = int(os.getenv(\"TELEGRAM_API_ID\"))\n",
    "api_hash = os.getenv(\"TELEGRAM_API_HASH\")\n",
    "\n",
    "session_name = \"notebook_scraper\"\n"
   ]
  },
  {
   "cell_type": "code",
   "execution_count": 12,
   "id": "4c876cb5",
   "metadata": {},
   "outputs": [],
   "source": [
    "channels = {\n",
    "    \"lobelia4cosmetics\": \"https://t.me/lobelia4cosmetics\",\n",
    "    \"tikvahpharma\": \"https://t.me/tikvahpharma\"\n",
    "}\n",
    "\n",
    "today = datetime.today().strftime(\"%Y-%m-%d\")\n",
    "msg_dir = f\"../data/raw/telegram_messages/{today}\"\n",
    "img_dir = f\"../data/raw/images/{today}\"\n",
    "\n",
    "os.makedirs(msg_dir, exist_ok=True)\n",
    "os.makedirs(img_dir, exist_ok=True)\n"
   ]
  },
  {
   "cell_type": "code",
   "execution_count": 13,
   "id": "b21f88fb",
   "metadata": {},
   "outputs": [],
   "source": [
    "import os\n",
    "import json\n",
    "from datetime import datetime\n",
    "from telethon.errors import FloodWaitError\n",
    "from telethon.tl.types import MessageMediaPhoto\n",
    "\n",
    "# Convert datetime to ISO format for JSON\n",
    "def json_safe_converter(obj):\n",
    "    if isinstance(obj, datetime):\n",
    "        return obj.isoformat()\n",
    "    elif isinstance(obj, bytes):\n",
    "        return obj.decode(errors=\"ignore\")  # or use base64 if needed\n",
    "    raise TypeError(f\"Type {type(obj)} not serializable\")\n",
    "\n",
    "# Main Scrape Function\n",
    "async def scrape_channel(client, name, link, download_images=True, limit=200):\n",
    "    messages = []\n",
    "    channel_img_dir = os.path.join(img_dir, name)\n",
    "    os.makedirs(channel_img_dir, exist_ok=True)\n",
    "\n",
    "    print(f\"Scraping channel: {name} (limit={limit})\")\n",
    "\n",
    "    try:\n",
    "        count = 0\n",
    "        async for message in client.iter_messages(link, limit=limit):\n",
    "            count += 1\n",
    "            msg = message.to_dict()\n",
    "\n",
    "            if download_images and message.media and isinstance(message.media, MessageMediaPhoto):\n",
    "                img_path = os.path.join(channel_img_dir, f\"{message.id}.jpg\")\n",
    "                await message.download_media(file=img_path)\n",
    "                msg[\"downloaded_image_path\"] = img_path\n",
    "\n",
    "            messages.append(msg)\n",
    "\n",
    "            if count % 100 == 0:\n",
    "                print(f\"{count} messages collected...\")\n",
    "\n",
    "        print(f\"Done. Total: {count} messages from {name}\")\n",
    "\n",
    "        # Save JSON with datetime-safe conversion\n",
    "        filepath = os.path.join(msg_dir, f\"{name}.json\")\n",
    "        with open(filepath, \"w\", encoding=\"utf-8\") as f:\n",
    "                json.dump(messages, f, ensure_ascii=False, indent=2, default=json_safe_converter)\n",
    "\n",
    "\n",
    "    except FloodWaitError as e:\n",
    "        print(f\"Flood wait error. Sleep for {e.seconds} seconds.\")\n",
    "    except Exception as e:\n",
    "        print(f\"Error scraping {name}: {e}\")\n"
   ]
  },
  {
   "cell_type": "code",
   "execution_count": 14,
   "id": "04bbad94",
   "metadata": {},
   "outputs": [
    {
     "name": "stdout",
     "output_type": "stream",
     "text": [
      "Scraping channel: lobelia4cosmetics (limit=200)\n",
      "100 messages collected...\n",
      "200 messages collected...\n",
      "Done. Total: 200 messages from lobelia4cosmetics\n",
      "Scraping channel: tikvahpharma (limit=200)\n",
      "100 messages collected...\n",
      "200 messages collected...\n",
      "Done. Total: 200 messages from tikvahpharma\n"
     ]
    }
   ],
   "source": [
    "async def main():\n",
    "    async with TelegramClient(session_name, api_id, api_hash) as client:\n",
    "        for name, link in channels.items():\n",
    "            await scrape_channel(client, name, link)\n",
    "\n",
    "await main()\n"
   ]
  },
  {
   "cell_type": "code",
   "execution_count": 19,
   "id": "f29a1bd0",
   "metadata": {},
   "outputs": [
    {
     "name": "stdout",
     "output_type": "stream",
     "text": [
      "Loaded 200 messages from lobelia4cosmetics.json\n",
      "First message keys: ['_', 'id', 'peer_id', 'date', 'message', 'out', 'mentioned', 'media_unread', 'silent', 'post', 'from_scheduled', 'legacy', 'edit_hide', 'pinned', 'noforwards', 'invert_media', 'offline', 'video_processing_pending', 'from_id', 'from_boosts_applied', 'saved_peer_id', 'fwd_from', 'via_bot_id', 'via_business_bot_id', 'reply_to', 'media', 'reply_markup', 'entities', 'views', 'forwards', 'replies', 'edit_date', 'post_author', 'grouped_id', 'reactions', 'restriction_reason', 'ttl_period', 'quick_reply_shortcut_id', 'effect', 'factcheck', 'report_delivery_until_date', 'paid_message_stars', 'downloaded_image_path']\n"
     ]
    }
   ],
   "source": [
    "import json\n",
    "\n",
    "with open(\"../data/raw/telegram_messages/2025-07-14/lobelia4cosmetics.json\", encoding=\"utf-8\") as f:\n",
    "    data = json.load(f)\n",
    "    print(f\"Loaded {len(data)} messages from lobelia4cosmetics.json\")\n",
    "    print(f\"First message keys: {list(data[0].keys())}\")\n"
   ]
  },
  {
   "cell_type": "code",
   "execution_count": 20,
   "id": "34adf704",
   "metadata": {},
   "outputs": [],
   "source": [
    "for msg in data:\n",
    "    assert \"id\" in msg\n",
    "    assert \"message\" in msg or \"text\" in msg\n"
   ]
  }
 ],
 "metadata": {
  "kernelspec": {
   "display_name": "telegram-health-analysis",
   "language": "python",
   "name": "python3"
  },
  "language_info": {
   "codemirror_mode": {
    "name": "ipython",
    "version": 3
   },
   "file_extension": ".py",
   "mimetype": "text/x-python",
   "name": "python",
   "nbconvert_exporter": "python",
   "pygments_lexer": "ipython3",
   "version": "3.10.18"
  }
 },
 "nbformat": 4,
 "nbformat_minor": 5
}
